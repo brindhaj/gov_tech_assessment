{
  "nbformat": 4,
  "nbformat_minor": 0,
  "metadata": {
    "colab": {
      "provenance": []
    },
    "kernelspec": {
      "name": "python3",
      "display_name": "Python 3"
    },
    "language_info": {
      "name": "python"
    }
  },
  "cells": [
    {
      "cell_type": "markdown",
      "source": [
        "## Import All Libraries"
      ],
      "metadata": {
        "id": "c3CNBR8n-0Yx"
      }
    },
    {
      "cell_type": "code",
      "source": [
        "#Using COVID API \n",
        "import json\n",
        "import numpy as np\n",
        "import pandas as pd\n",
        "import requests\n",
        "import matplotlib.pyplot as plt\n",
        "import datetime"
      ],
      "metadata": {
        "id": "xv_b39-A-9yP"
      },
      "execution_count": 1,
      "outputs": []
    },
    {
      "cell_type": "markdown",
      "source": [
        "### Fetch JSON Object from URL "
      ],
      "metadata": {
        "id": "JHtETuYZ_CeA"
      }
    },
    {
      "cell_type": "code",
      "source": [
        "\n",
        "'''\n",
        "  Function Name: get_json\n",
        "  Description : Fetches the JSON output from API \n",
        "  input:<api_url>\n",
        "  output: JSON Payload\n",
        "\n",
        "'''\n",
        "\n",
        "def get_json(api_url):\n",
        "  response = requests.get(api_url)\n",
        "  if response.status_code == 200:\n",
        "    return json.loads(response.content.decode('utf-8'))\n",
        "  else:\n",
        "    return None"
      ],
      "metadata": {
        "id": "gYuR4ZxB-2Au"
      },
      "execution_count": 2,
      "outputs": []
    },
    {
      "cell_type": "markdown",
      "source": [
        "## Fetch the COVID Payload from URL for Singapore "
      ],
      "metadata": {
        "id": "2bnbz4IO_ehg"
      }
    },
    {
      "cell_type": "code",
      "source": [
        "\n",
        "# Assign the URL \n",
        "covid_url = 'https://api.covid19api.com/total/dayone/country/singapore/status/confirmed'\n",
        "covid_url='https://api.covid19api.com/country/singapore/status/confirmed'\n",
        "\n",
        "# Fetch the data\n",
        "df_covid_worldwide = pd.io.json.json_normalize(get_json(covid_url))\n",
        "\n",
        "# Convert to Dataframe\n",
        "\n",
        "df_covid_worldwide['month_year'] = pd.to_datetime(df_covid_worldwide['Date']).dt.to_period('M')\n",
        "\n",
        "# Group by Month and sum the cases per month \n",
        "df2 = df_covid_worldwide.groupby('month_year')['Cases'].sum()\n",
        "\n",
        "#df_covid_worldwide.head()"
      ],
      "metadata": {
        "colab": {
          "base_uri": "https://localhost:8080/"
        },
        "id": "fvtbgLxy-2DD",
        "outputId": "f98d580d-886a-45c6-ad13-49e7ddfaba9d"
      },
      "execution_count": 6,
      "outputs": [
        {
          "output_type": "stream",
          "name": "stderr",
          "text": [
            "/usr/local/lib/python3.7/dist-packages/ipykernel_launcher.py:6: FutureWarning: pandas.io.json.json_normalize is deprecated, use pandas.json_normalize instead\n",
            "  \n",
            "/usr/local/lib/python3.7/dist-packages/pandas/core/arrays/datetimes.py:1146: UserWarning: Converting to PeriodArray/Index representation will drop timezone information.\n",
            "  UserWarning,\n"
          ]
        }
      ]
    },
    {
      "cell_type": "markdown",
      "source": [
        "## Plot the Result"
      ],
      "metadata": {
        "id": "_vWB4S9t_bJj"
      }
    },
    {
      "cell_type": "code",
      "source": [
        "\n",
        "# plot the result\n",
        "df2.plot()\n",
        "plt.xticks(rotation=45)\n",
        "plt.show()"
      ],
      "metadata": {
        "colab": {
          "base_uri": "https://localhost:8080/",
          "height": 314
        },
        "id": "1ajpD_HN-2FW",
        "outputId": "ebe440a1-5a91-456d-d4ee-4f274404cc1c"
      },
      "execution_count": 4,
      "outputs": [
        {
          "output_type": "display_data",
          "data": {
            "text/plain": [
              "<Figure size 432x288 with 1 Axes>"
            ],
            "image/png": "[encoded data removed]"
          },
          "metadata": {
            "needs_background": "light"
          }
        }
      ]
    },
    {
      "cell_type": "code",
      "source": [
        "#group data by product and display sales as line chart\n",
        "df_covid_worldwide.groupby('month_year')['Cases'].sum().plot(legend=True)\n",
        "df2.plot.bar(stacked=True);"
      ],
      "metadata": {
        "colab": {
          "base_uri": "https://localhost:8080/",
          "height": 323
        },
        "id": "tulgKssI-7LO",
        "outputId": "7f53c84c-e206-4733-f42f-c533dfd88e41"
      },
      "execution_count": 5,
      "outputs": [
        {
          "output_type": "display_data",
          "data": {
            "text/plain": [
              "<Figure size 432x288 with 1 Axes>"
            ],
            "image/png": "[encoded data removed]"
          },
          "metadata": {
            "needs_background": "light"
          }
        }
      ]
    }
  ]
}