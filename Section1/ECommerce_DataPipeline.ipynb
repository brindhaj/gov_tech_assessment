{
  "nbformat": 4,
  "nbformat_minor": 0,
  "metadata": {
    "colab": {
      "provenance": []
    },
    "kernelspec": {
      "name": "python3",
      "display_name": "Python 3"
    },
    "language_info": {
      "name": "python"
    }
  },
  "cells": [
    {
      "cell_type": "markdown",
      "source": [
        "## Connect to Google Drive "
      ],
      "metadata": {
        "id": "ocNEJvk1Cxpt"
      }
    },
    {
      "cell_type": "code",
      "source": [
        "\n",
        "\n",
        "from google.colab import drive\n",
        "drive.mount('/content/drive')\n",
        "!pwd\n",
        "import os\n",
        "%cd /content/drive/My Drive/Colab Notebooks\n"
      ],
      "metadata": {
        "colab": {
          "base_uri": "https://localhost:8080/"
        },
        "id": "V79UQ4Qb7ePu",
        "outputId": "cf2055a5-3692-441d-9f95-a603fc285ef7"
      },
      "execution_count": 3,
      "outputs": [
        {
          "output_type": "stream",
          "name": "stdout",
          "text": [
            "Drive already mounted at /content/drive; to attempt to forcibly remount, call drive.mount(\"/content/drive\", force_remount=True).\n",
            "/content/drive/My Drive/Colab Notebooks\n",
            "/content/drive/My Drive/Colab Notebooks\n"
          ]
        }
      ]
    },
    {
      "cell_type": "markdown",
      "source": [
        "# Data Pipeline to process Membership Details "
      ],
      "metadata": {
        "id": "9F1Cuj-l6VXZ"
      }
    },
    {
      "cell_type": "code",
      "source": [
        "# Import all libraries\n",
        "\n",
        "!pip install apache-airflow\n",
        "import numpy as np\n",
        "import pandas as pd\n",
        "\n",
        "import pandas as pd\n",
        "import numpy as np\n",
        "from datetime import datetime\n",
        "from pandas.api.types import is_numeric_dtype\n",
        "import hashlib\n",
        "from os import listdir\n",
        "from os.path import isfile, join\n",
        "import shutil\n",
        "import datetime\n",
        "\n",
        "from airflow.models import DAG\n",
        "from airflow.operators.python import PythonOperator\n",
        "from airflow.sensors.python import PythonSensor\n",
        "\n",
        "# Hash a single string with hashlib.sha256\n",
        "import hashlib\n"
      ],
      "metadata": {
        "colab": {
          "base_uri": "https://localhost:8080/"
        },
        "id": "0iVJ3LBPqMrh",
        "outputId": "87037f3b-3b6a-43de-b9db-e5a55b923ab9"
      },
      "execution_count": 10,
      "outputs": [
        {
          "output_type": "stream",
          "name": "stdout",
          "text": [
            "Looking in indexes: https://pypi.org/simple, https://us-python.pkg.dev/colab-wheels/public/simple/\n",
            "Requirement already satisfied: apache-airflow in /usr/local/lib/python3.7/dist-packages (2.4.3)\n",
            "Requirement already satisfied: tabulate>=0.7.5 in /usr/local/lib/python3.7/dist-packages (from apache-airflow) (0.8.10)\n",
            "Requirement already satisfied: rich>=12.4.4 in /usr/local/lib/python3.7/dist-packages (from apache-airflow) (12.6.0)\n",
            "Requirement already satisfied: setproctitle>=1.1.8 in /usr/local/lib/python3.7/dist-packages (from apache-airflow) (1.3.2)\n",
            "Requirement already satisfied: mdit-py-plugins>=0.3.0 in /usr/local/lib/python3.7/dist-packages (from apache-airflow) (0.3.1)\n",
            "Requirement already satisfied: gunicorn>=20.1.0 in /usr/local/lib/python3.7/dist-packages (from apache-airflow) (20.1.0)\n",
            "Requirement already satisfied: itsdangerous>=2.0 in /usr/local/lib/python3.7/dist-packages (from apache-airflow) (2.1.2)\n",
            "Requirement already satisfied: apache-airflow-providers-common-sql in /usr/local/lib/python3.7/dist-packages (from apache-airflow) (1.3.0)\n",
            "Requirement already satisfied: dill>=0.2.2 in /usr/local/lib/python3.7/dist-packages (from apache-airflow) (0.3.6)\n",
            "Requirement already satisfied: linkify-it-py>=2.0.0 in /usr/local/lib/python3.7/dist-packages (from apache-airflow) (2.0.0)\n",
            "Requirement already satisfied: pendulum>=2.0 in /usr/local/lib/python3.7/dist-packages (from apache-airflow) (2.1.2)\n",
            "Requirement already satisfied: pluggy>=1.0 in /usr/local/lib/python3.7/dist-packages (from apache-airflow) (1.0.0)\n",
            "Requirement already satisfied: graphviz>=0.12 in /usr/local/lib/python3.7/dist-packages (from apache-airflow) (0.20.1)\n",
            "Requirement already satisfied: jsonschema>=3.2.0 in /usr/local/lib/python3.7/dist-packages (from apache-airflow) (4.3.3)\n",
            "Requirement already satisfied: sqlalchemy>=1.4 in /usr/local/lib/python3.7/dist-packages (from apache-airflow) (1.4.44)\n",
            "Requirement already satisfied: packaging>=14.0 in /usr/local/lib/python3.7/dist-packages (from apache-airflow) (21.3)\n",
            "Requirement already satisfied: cattrs>=22.1.0 in /usr/local/lib/python3.7/dist-packages (from apache-airflow) (22.2.0)\n",
            "Requirement already satisfied: jinja2>=3.0.0 in /usr/local/lib/python3.7/dist-packages (from apache-airflow) (3.1.2)\n",
            "Requirement already satisfied: apache-airflow-providers-imap in /usr/local/lib/python3.7/dist-packages (from apache-airflow) (3.1.0)\n",
            "Requirement already satisfied: cached-property>=1.5.0 in /usr/local/lib/python3.7/dist-packages (from apache-airflow) (1.5.2)\n",
            "Requirement already satisfied: python-nvd3>=0.15.0 in /usr/local/lib/python3.7/dist-packages (from apache-airflow) (0.15.0)\n",
            "Requirement already satisfied: marshmallow-oneofschema>=2.0.1 in /usr/local/lib/python3.7/dist-packages (from apache-airflow) (3.0.1)\n",
            "Requirement already satisfied: pyjwt>=2.0.0 in /usr/local/lib/python3.7/dist-packages (from apache-airflow) (2.6.0)\n",
            "Requirement already satisfied: lockfile>=0.12.2 in /usr/local/lib/python3.7/dist-packages (from apache-airflow) (0.12.2)\n",
            "Requirement already satisfied: termcolor>=1.1.0 in /usr/local/lib/python3.7/dist-packages (from apache-airflow) (2.1.0)\n",
            "Requirement already satisfied: python-dateutil>=2.3 in /usr/local/lib/python3.7/dist-packages (from apache-airflow) (2.8.2)\n",
            "Requirement already satisfied: apache-airflow-providers-http in /usr/local/lib/python3.7/dist-packages (from apache-airflow) (4.1.0)\n",
            "Requirement already satisfied: colorlog<5.0,>=4.0.2 in /usr/local/lib/python3.7/dist-packages (from apache-airflow) (4.8.0)\n",
            "Requirement already satisfied: apache-airflow-providers-sqlite in /usr/local/lib/python3.7/dist-packages (from apache-airflow) (3.3.0)\n",
            "Requirement already satisfied: flask<2.3,>=2.2 in /usr/local/lib/python3.7/dist-packages (from apache-airflow) (2.2.2)\n",
            "Requirement already satisfied: importlib-metadata>=1.7 in /usr/local/lib/python3.7/dist-packages (from apache-airflow) (4.13.0)\n",
            "Requirement already satisfied: argcomplete>=1.10 in /usr/local/lib/python3.7/dist-packages (from apache-airflow) (2.0.0)\n",
            "Requirement already satisfied: importlib-resources>=5.2 in /usr/local/lib/python3.7/dist-packages (from apache-airflow) (5.10.0)\n",
            "Requirement already satisfied: tenacity>=6.2.0 in /usr/local/lib/python3.7/dist-packages (from apache-airflow) (8.1.0)\n",
            "Requirement already satisfied: flask-session>=0.4.0 in /usr/local/lib/python3.7/dist-packages (from apache-airflow) (0.4.0)\n",
            "Requirement already satisfied: blinker in /usr/local/lib/python3.7/dist-packages (from apache-airflow) (1.5)\n",
            "Requirement already satisfied: cron-descriptor>=1.2.24 in /usr/local/lib/python3.7/dist-packages (from apache-airflow) (1.2.32)\n",
            "Requirement already satisfied: flask-caching>=1.5.0 in /usr/local/lib/python3.7/dist-packages (from apache-airflow) (2.0.1)\n",
            "Requirement already satisfied: attrs>=22.1.0 in /usr/local/lib/python3.7/dist-packages (from apache-airflow) (22.1.0)\n",
            "Requirement already satisfied: python-slugify>=5.0 in /usr/local/lib/python3.7/dist-packages (from apache-airflow) (6.1.2)\n",
            "Requirement already satisfied: cryptography>=0.9.3 in /usr/local/lib/python3.7/dist-packages (from apache-airflow) (38.0.3)\n",
            "Requirement already satisfied: markupsafe>=1.1.1 in /usr/local/lib/python3.7/dist-packages (from apache-airflow) (2.1.1)\n",
            "Requirement already satisfied: psutil>=4.2.0 in /usr/local/lib/python3.7/dist-packages (from apache-airflow) (5.4.8)\n",
            "Requirement already satisfied: configupdater>=3.1.1 in /usr/local/lib/python3.7/dist-packages (from apache-airflow) (3.1.1)\n",
            "Requirement already satisfied: alembic<2.0,>=1.5.1 in /usr/local/lib/python3.7/dist-packages (from apache-airflow) (1.8.1)\n",
            "Requirement already satisfied: pygments>=2.0.1 in /usr/local/lib/python3.7/dist-packages (from apache-airflow) (2.6.1)\n",
            "Requirement already satisfied: sqlalchemy-jsonfield>=1.0 in /usr/local/lib/python3.7/dist-packages (from apache-airflow) (1.0.0)\n",
            "Requirement already satisfied: python-daemon>=2.2.4 in /usr/local/lib/python3.7/dist-packages (from apache-airflow) (2.3.2)\n",
            "Requirement already satisfied: croniter>=0.3.17 in /usr/local/lib/python3.7/dist-packages (from apache-airflow) (1.3.8)\n",
            "Requirement already satisfied: apache-airflow-providers-ftp in /usr/local/lib/python3.7/dist-packages (from apache-airflow) (3.2.0)\n",
            "Requirement already satisfied: httpx in /usr/local/lib/python3.7/dist-packages (from apache-airflow) (0.23.1)\n",
            "Requirement already satisfied: flask-wtf>=0.15 in /usr/local/lib/python3.7/dist-packages (from apache-airflow) (1.0.1)\n",
            "Requirement already satisfied: connexion[flask,swagger-ui]>=2.10.0 in /usr/local/lib/python3.7/dist-packages (from apache-airflow) (2.14.1)\n",
            "Requirement already satisfied: lazy-object-proxy in /usr/local/lib/python3.7/dist-packages (from apache-airflow) (1.8.0)\n",
            "Requirement already satisfied: pathspec~=0.9.0 in /usr/local/lib/python3.7/dist-packages (from apache-airflow) (0.9.0)\n",
            "Requirement already satisfied: deprecated>=1.2.13 in /usr/local/lib/python3.7/dist-packages (from apache-airflow) (1.2.13)\n",
            "Requirement already satisfied: flask-appbuilder==4.1.4 in /usr/local/lib/python3.7/dist-packages (from apache-airflow) (4.1.4)\n",
            "Requirement already satisfied: werkzeug>=2.0 in /usr/local/lib/python3.7/dist-packages (from apache-airflow) (2.2.2)\n",
            "Requirement already satisfied: markdown-it-py>=2.1.0 in /usr/local/lib/python3.7/dist-packages (from apache-airflow) (2.1.0)\n",
            "Requirement already satisfied: flask-login>=0.6.2 in /usr/local/lib/python3.7/dist-packages (from apache-airflow) (0.6.2)\n",
            "Requirement already satisfied: markdown>=3.0 in /usr/local/lib/python3.7/dist-packages (from apache-airflow) (3.4.1)\n",
            "Requirement already satisfied: unicodecsv>=0.14.1 in /usr/local/lib/python3.7/dist-packages (from apache-airflow) (0.14.1)\n",
            "Requirement already satisfied: typing-extensions>=4.0.0 in /usr/local/lib/python3.7/dist-packages (from apache-airflow) (4.1.1)\n",
            "Requirement already satisfied: Flask-SQLAlchemy<3,>=2.4 in /usr/local/lib/python3.7/dist-packages (from flask-appbuilder==4.1.4->apache-airflow) (2.5.1)\n",
            "Requirement already satisfied: marshmallow<4,>=3 in /usr/local/lib/python3.7/dist-packages (from flask-appbuilder==4.1.4->apache-airflow) (3.19.0)\n",
            "Requirement already satisfied: WTForms<4 in /usr/local/lib/python3.7/dist-packages (from flask-appbuilder==4.1.4->apache-airflow) (3.0.1)\n",
            "Requirement already satisfied: click<9,>=8 in /usr/local/lib/python3.7/dist-packages (from flask-appbuilder==4.1.4->apache-airflow) (8.1.3)\n",
            "Requirement already satisfied: marshmallow-sqlalchemy<0.27.0,>=0.22.0 in /usr/local/lib/python3.7/dist-packages (from flask-appbuilder==4.1.4->apache-airflow) (0.26.1)\n",
            "Requirement already satisfied: colorama<1,>=0.3.9 in /usr/local/lib/python3.7/dist-packages (from flask-appbuilder==4.1.4->apache-airflow) (0.4.6)\n",
            "Requirement already satisfied: prison<1.0.0,>=0.2.1 in /usr/local/lib/python3.7/dist-packages (from flask-appbuilder==4.1.4->apache-airflow) (0.2.1)\n",
            "Requirement already satisfied: apispec[yaml]<4,>=3.3 in /usr/local/lib/python3.7/dist-packages (from flask-appbuilder==4.1.4->apache-airflow) (3.3.2)\n",
            "Requirement already satisfied: marshmallow-enum<2,>=1.5.1 in /usr/local/lib/python3.7/dist-packages (from flask-appbuilder==4.1.4->apache-airflow) (1.5.1)\n",
            "Requirement already satisfied: sqlalchemy-utils<1,>=0.32.21 in /usr/local/lib/python3.7/dist-packages (from flask-appbuilder==4.1.4->apache-airflow) (0.38.3)\n",
            "Requirement already satisfied: Flask-Babel<3,>=1 in /usr/local/lib/python3.7/dist-packages (from flask-appbuilder==4.1.4->apache-airflow) (2.0.0)\n",
            "Requirement already satisfied: Flask-JWT-Extended<5.0.0,>=4.0.0 in /usr/local/lib/python3.7/dist-packages (from flask-appbuilder==4.1.4->apache-airflow) (4.4.4)\n",
            "Requirement already satisfied: email-validator<2,>=1.0.5 in /usr/local/lib/python3.7/dist-packages (from flask-appbuilder==4.1.4->apache-airflow) (1.3.0)\n",
            "Requirement already satisfied: Mako in /usr/local/lib/python3.7/dist-packages (from alembic<2.0,>=1.5.1->apache-airflow) (1.2.4)\n",
            "Requirement already satisfied: PyYAML>=3.10 in /usr/local/lib/python3.7/dist-packages (from apispec[yaml]<4,>=3.3->flask-appbuilder==4.1.4->apache-airflow) (6.0)\n",
            "Requirement already satisfied: exceptiongroup in /usr/local/lib/python3.7/dist-packages (from cattrs>=22.1.0->apache-airflow) (1.0.4)\n",
            "Requirement already satisfied: clickclick<21,>=1.2 in /usr/local/lib/python3.7/dist-packages (from connexion[flask,swagger-ui]>=2.10.0->apache-airflow) (20.10.2)\n",
            "Requirement already satisfied: requests<3,>=2.9.1 in /usr/local/lib/python3.7/dist-packages (from connexion[flask,swagger-ui]>=2.10.0->apache-airflow) (2.28.1)\n",
            "Requirement already satisfied: inflection<0.6,>=0.3.1 in /usr/local/lib/python3.7/dist-packages (from connexion[flask,swagger-ui]>=2.10.0->apache-airflow) (0.5.1)\n",
            "Requirement already satisfied: swagger-ui-bundle<0.1,>=0.0.2 in /usr/local/lib/python3.7/dist-packages (from connexion[flask,swagger-ui]>=2.10.0->apache-airflow) (0.0.9)\n",
            "Requirement already satisfied: cffi>=1.12 in /usr/local/lib/python3.7/dist-packages (from cryptography>=0.9.3->apache-airflow) (1.15.1)\n",
            "Requirement already satisfied: pycparser in /usr/local/lib/python3.7/dist-packages (from cffi>=1.12->cryptography>=0.9.3->apache-airflow) (2.21)\n",
            "Requirement already satisfied: wrapt<2,>=1.10 in /usr/local/lib/python3.7/dist-packages (from deprecated>=1.2.13->apache-airflow) (1.14.1)\n",
            "Requirement already satisfied: idna>=2.0.0 in /usr/local/lib/python3.7/dist-packages (from email-validator<2,>=1.0.5->flask-appbuilder==4.1.4->apache-airflow) (2.10)\n",
            "Requirement already satisfied: dnspython>=1.15.0 in /usr/local/lib/python3.7/dist-packages (from email-validator<2,>=1.0.5->flask-appbuilder==4.1.4->apache-airflow) (2.2.1)\n",
            "Requirement already satisfied: Babel>=2.3 in /usr/local/lib/python3.7/dist-packages (from Flask-Babel<3,>=1->flask-appbuilder==4.1.4->apache-airflow) (2.11.0)\n",
            "Requirement already satisfied: pytz in /usr/local/lib/python3.7/dist-packages (from Flask-Babel<3,>=1->flask-appbuilder==4.1.4->apache-airflow) (2022.6)\n",
            "Requirement already satisfied: cachelib>=0.9.0 in /usr/local/lib/python3.7/dist-packages (from flask-caching>=1.5.0->apache-airflow) (0.9.0)\n",
            "Requirement already satisfied: setuptools>=3.0 in /usr/local/lib/python3.7/dist-packages (from gunicorn>=20.1.0->apache-airflow) (57.4.0)\n",
            "Requirement already satisfied: zipp>=0.5 in /usr/local/lib/python3.7/dist-packages (from importlib-metadata>=1.7->apache-airflow) (3.10.0)\n",
            "Requirement already satisfied: pyrsistent!=0.17.0,!=0.17.1,!=0.17.2,>=0.14.0 in /usr/local/lib/python3.7/dist-packages (from jsonschema>=3.2.0->apache-airflow) (0.19.2)\n",
            "Requirement already satisfied: uc-micro-py in /usr/local/lib/python3.7/dist-packages (from linkify-it-py>=2.0.0->apache-airflow) (1.0.1)\n",
            "Requirement already satisfied: mdurl~=0.1 in /usr/local/lib/python3.7/dist-packages (from markdown-it-py>=2.1.0->apache-airflow) (0.1.2)\n",
            "Requirement already satisfied: pyparsing!=3.0.5,>=2.0.2 in /usr/local/lib/python3.7/dist-packages (from packaging>=14.0->apache-airflow) (3.0.9)\n",
            "Requirement already satisfied: pytzdata>=2020.1 in /usr/local/lib/python3.7/dist-packages (from pendulum>=2.0->apache-airflow) (2020.1)\n",
            "Requirement already satisfied: six in /usr/local/lib/python3.7/dist-packages (from prison<1.0.0,>=0.2.1->flask-appbuilder==4.1.4->apache-airflow) (1.15.0)\n",
            "Requirement already satisfied: docutils in /usr/local/lib/python3.7/dist-packages (from python-daemon>=2.2.4->apache-airflow) (0.17.1)\n",
            "Requirement already satisfied: text-unidecode>=1.3 in /usr/local/lib/python3.7/dist-packages (from python-slugify>=5.0->apache-airflow) (1.3)\n",
            "Requirement already satisfied: charset-normalizer<3,>=2 in /usr/local/lib/python3.7/dist-packages (from requests<3,>=2.9.1->connexion[flask,swagger-ui]>=2.10.0->apache-airflow) (2.1.1)\n",
            "Requirement already satisfied: certifi>=2017.4.17 in /usr/local/lib/python3.7/dist-packages (from requests<3,>=2.9.1->connexion[flask,swagger-ui]>=2.10.0->apache-airflow) (2022.9.24)\n",
            "Requirement already satisfied: urllib3<1.27,>=1.21.1 in /usr/local/lib/python3.7/dist-packages (from requests<3,>=2.9.1->connexion[flask,swagger-ui]>=2.10.0->apache-airflow) (1.24.3)\n",
            "Requirement already satisfied: commonmark<0.10.0,>=0.9.0 in /usr/local/lib/python3.7/dist-packages (from rich>=12.4.4->apache-airflow) (0.9.1)\n",
            "Requirement already satisfied: greenlet!=0.4.17 in /usr/local/lib/python3.7/dist-packages (from sqlalchemy>=1.4->apache-airflow) (2.0.1)\n",
            "Requirement already satisfied: sqlparse>=0.4.2 in /usr/local/lib/python3.7/dist-packages (from apache-airflow-providers-common-sql->apache-airflow) (0.4.3)\n",
            "Requirement already satisfied: requests-toolbelt in /usr/local/lib/python3.7/dist-packages (from apache-airflow-providers-http->apache-airflow) (0.10.1)\n",
            "Requirement already satisfied: httpcore<0.17.0,>=0.15.0 in /usr/local/lib/python3.7/dist-packages (from httpx->apache-airflow) (0.16.2)\n",
            "Requirement already satisfied: sniffio in /usr/local/lib/python3.7/dist-packages (from httpx->apache-airflow) (1.3.0)\n",
            "Requirement already satisfied: rfc3986[idna2008]<2,>=1.3 in /usr/local/lib/python3.7/dist-packages (from httpx->apache-airflow) (1.5.0)\n",
            "Requirement already satisfied: anyio<5.0,>=3.0 in /usr/local/lib/python3.7/dist-packages (from httpcore<0.17.0,>=0.15.0->httpx->apache-airflow) (3.6.2)\n",
            "Requirement already satisfied: h11<0.15,>=0.13 in /usr/local/lib/python3.7/dist-packages (from httpcore<0.17.0,>=0.15.0->httpx->apache-airflow) (0.14.0)\n"
          ]
        }
      ]
    },
    {
      "cell_type": "markdown",
      "source": [
        "### Viewing and Understanding the data files "
      ],
      "metadata": {
        "id": "rlo9wHM219ua"
      }
    },
    {
      "cell_type": "code",
      "source": [
        "data1 = pd.read_csv(\"in_data/applications_dataset_1.csv\")\n",
        "\n",
        "print(data1.shape)\n",
        "print(data1.head())\n",
        "print(data1.describe())\n",
        "\n",
        "data2 = pd.read_csv(\"in_data/applications_dataset_2.csv\")\n",
        "\n",
        "print(data2.shape)\n",
        "print(data2.head())\n",
        "print(data2.describe())\n"
      ],
      "metadata": {
        "colab": {
          "base_uri": "https://localhost:8080/"
        },
        "id": "-hAnanzrp7sy",
        "outputId": "c50ace38-03c5-4ba9-e544-ff598c6b4c5a"
      },
      "execution_count": 5,
      "outputs": [
        {
          "output_type": "stream",
          "name": "stdout",
          "text": [
            "(1999, 4)\n",
            "             name                              email date_of_birth mobile_no\n",
            "0   William Dixon  William_Dixon@woodward-fuller.biz    1986/01/10  40601711\n",
            "1    Kristen Horn               Kristen_Horn@lin.com    1974-09-10    737931\n",
            "2  Kimberly Chang   Kimberly_Chang@johnson-lopez.biz    02/27/1974   2692047\n",
            "3       Mary Ball              Mary_Ball@stevens.biz    02/05/1968    886359\n",
            "4  Benjamin Craig           Benjamin_Craig@berry.net    12/11/1988    696429\n",
            "                 name                              email date_of_birth  \\\n",
            "count            1999                               1999          1999   \n",
            "unique           1968                               1999          1984   \n",
            "top     Brian Johnson  William_Dixon@woodward-fuller.biz    08/22/1993   \n",
            "freq                4                                  1             2   \n",
            "\n",
            "       mobile_no  \n",
            "count       1999  \n",
            "unique      1993  \n",
            "top        39056  \n",
            "freq           2  \n",
            "(3000, 4)\n",
            "              name                          email date_of_birth mobile_no\n",
            "0    Tony Shepherd     Tony_Shepherd@petersen.com    07/03/2016    711447\n",
            "1  Sherry Gonzalez   Sherry_Gonzalez@caldwell.biz    14-03-1973  66744895\n",
            "2    Ashlee Austin     Ashlee_Austin@melendez.com    12/09/1992   6454197\n",
            "3      David Brown  David_Brown@jackson-smith.biz    2001-09-22  69082983\n",
            "4       Marc Meyer          Marc_Meyer@chavez.com    1996/05/17   9727376\n",
            "                 name                       email date_of_birth mobile_no\n",
            "count            3000                        3000          3000      3000\n",
            "unique           2931                        3000          2954      2981\n",
            "top     Michael Smith  Tony_Shepherd@petersen.com    2013/03/01     63091\n",
            "freq                4                           1             2         2\n"
          ]
        }
      ]
    },
    {
      "cell_type": "markdown",
      "source": [
        "# Data Processor for Incoming Data and scheduler using AirFlow\n"
      ],
      "metadata": {
        "id": "oyZWwZZPUejE"
      }
    },
    {
      "cell_type": "markdown",
      "source": [
        "## Settings and helper functions "
      ],
      "metadata": {
        "id": "eGpiKRHb8ULl"
      }
    },
    {
      "cell_type": "code",
      "source": [
        "'''\n",
        "  Function Name: fetch_hash_string\n",
        "  Description : Fetches the hashed value baesd on last name and birth date. The first 5 characters are used as hash value\n",
        "  input:<last name, birth_date>\n",
        "  output: hashsed value\n",
        "\n",
        "'''\n",
        "\n",
        "def fetch_hash_string(last_name,birth_date):\n",
        "  hashed_string = hashlib.sha256(str(birth_date).encode('utf-8')).hexdigest()\n",
        "  return last_name+hashed_string[0:5]\n",
        "\n",
        "'''\n",
        "   in_data: folder where the batch file is placed and is processed in an hourly manner\n",
        "   in_archive: Folder where the data is moved after processing \n",
        "   out_successful: Folder where successful memberships are placed\n",
        "   out_unsuccessful: Folder where unsuccessful memberships are placed\n",
        "\n",
        "'''\n",
        "PATH=\"in_data/\"\n",
        "ARCHIVE_PATH=\"in_archive/\"\n",
        "OUT_SUCCESSFUL_PATH=\"out_successful/\"\n",
        "OUT_UNSUCCESSFUL_PATH=\"out_unsuccessful/\""
      ],
      "metadata": {
        "id": "hRtS9-Vp8Ksw"
      },
      "execution_count": 6,
      "outputs": []
    },
    {
      "cell_type": "markdown",
      "source": [
        "## The data pipeline Function"
      ],
      "metadata": {
        "id": "6aXv4Psk8K_j"
      }
    },
    {
      "cell_type": "code",
      "source": [
        "\n",
        "'''\n",
        "  Function Name: data_pipeline\n",
        "  Description : Performes the following \n",
        "  Split name into first_name and last_name\n",
        "  Format birthday field into YYYYMMDD\n",
        "  Remove any rows which do not have a name field (treat this as unsuccessful applications)\n",
        "  Create a new field named above_18 based on the applicant's birthday\n",
        "  Membership IDs for successful applications should be the user's last name, followed by a SHA256 hash of the applicant's birthday, truncated to first 5 digits of hash (i.e <last_name>_<hash(YYYYMMDD)>)\n",
        "  \n",
        "  input:<>\n",
        "  output: The successful and unsuccessful applicants are written to a folder \n",
        "'''\n",
        "\n",
        "def data_pipeline():\n",
        "\n",
        "    # Concatenate all data together \n",
        "    onlyfiles = [join(PATH, f) for f in listdir(PATH) if isfile(join(PATH, f))]\n",
        "\n",
        "    # Convert to data frame \n",
        "    raw_df = pd.concat([pd.read_csv(f, low_memory=False) for f in onlyfiles], ignore_index=True)\n",
        "    \n",
        "    \n",
        "    #Data Cleansing\n",
        "    raw_df['mobile_no']=raw_df['mobile_no'].str.replace(' ', '')\n",
        "    raw_df['mobile_no']=raw_df['mobile_no'].astype('int')\n",
        "\n",
        "    # Create a boolean is_mobile_valid and is_email_valid based on conditions\n",
        "    raw_df['is_mobile_valid'] = np.where(raw_df['mobile_no'].astype(str).str.len() == 8,True, False)\n",
        "    raw_df['is_email_valid'] = np.where(raw_df['email'].str.contains(r'[^@]+@[^@]+\\.[com]+') | raw_df['email'].str.contains(r'[^@]+@[^@]+\\.[net]+'),True,False)\n",
        "\n",
        "    #Format birthday field into YYYYMMDD\n",
        "    raw_df['date_of_birth'] = pd.to_datetime(raw_df['date_of_birth'])\n",
        "    raw_df['date_of_birth'] = raw_df.date_of_birth.apply(lambda x: x.strftime('%Y%m%d')).astype(int)\n",
        "\n",
        "    \n",
        "\n",
        "    # Reference for DOB Calculation\n",
        "    ref_dt = datetime(2022, 1, 1)\n",
        "\n",
        "    # Create a new field named above_18 based on the applicant's birthday\n",
        "    raw_df['age'] = raw_df['date_of_birth'].apply(lambda x: (ref_dt - x).days // 365)\n",
        "    raw_df['above_18'] = np.where(raw_df['age'] > 18 ,True, False)\n",
        "    \n",
        "    #Split name into first_name and last_name\n",
        "    raw_df['first_name'] = [x.split(' ')[-1] for x in raw_df['name']]\n",
        "    raw_df['last_name'] = [x.split(' ')[-0] for x in raw_df['name']]\n",
        "    success_df = raw_df.loc[(raw_df['is_mobile_valid'] == True) & (raw_df['is_email_valid'] == True) & (raw_df['above_18'] == True)  & (raw_df['name']!=\"\")]\n",
        "\n",
        "    #Identify Successful applications ad Hash the value\n",
        "    success_df[\"membership_id\"] = success_df.apply(lambda x : fetch_hash_string(x[\"last_name\"],x[\"date_of_birth\"]), axis=1)\n",
        "\n",
        "    #Identify UnSuccessful applications \n",
        "    unsuccess_df = raw_df.loc[(raw_df['is_mobile_valid'] == False) | (raw_df['is_email_valid'] == False) | (raw_df['above_18'] == False)]\n",
        "\n",
        "\n",
        "    curr_time = datetime.now()\n",
        "    dt_string = curr_time.strftime(\"%d-%m-%Y_%H:%M:%S\")\n",
        "\n",
        "    # Write results\n",
        "    success_df.to_csv(OUT_SUCCESSFUL_PATH+'successful_applications_'+dt_string+'.csv')\n",
        "    unsuccess_df.to_csv(OUT_UNSUCCESSFUL_PATH+'unsuccessful_applications_'+dt_string+'.csv')\n",
        "    \n",
        "    \n",
        "    #Archive processed files \n",
        "    for f in listdir(PATH):\n",
        "      shutil.move(PATH+f, ARCHIVE_PATH+f)"
      ],
      "metadata": {
        "id": "g6mVuCM38Pjq"
      },
      "execution_count": 7,
      "outputs": []
    },
    {
      "cell_type": "markdown",
      "source": [
        "## Airflow Scheduler Definition "
      ],
      "metadata": {
        "id": "edT45uGP8euM"
      }
    },
    {
      "cell_type": "code",
      "source": [
        "\n",
        "# Parameters\n",
        "WORFKLOW_DAG_ID = \"data_pipeline\"\n",
        "WORFKFLOW_START_DATE = datetime.datetime(2022, 11,26)\n",
        "WORKFLOW_SCHEDULE_INTERVAL = \"* * * * *\"\n",
        "WORKFLOW_EMAIL = [\"brindha@example.com\"]\n",
        "\n",
        "WORKFLOW_DEFAULT_ARGS = {\n",
        "    \"owner\": \"brindha\",\n",
        "    \"start_date\": WORFKFLOW_START_DATE,\n",
        "    \"email\": WORKFLOW_EMAIL,\n",
        "    \"email_on_failure\": False,\n",
        "    \"email_on_retry\": False,\n",
        "    \"retries\": 0,\n",
        "    'schedule_interval': '@hourly',\n",
        "}\n",
        "\n",
        "# Initialize DAG\n",
        "dag = DAG(\n",
        "    dag_id=WORFKLOW_DAG_ID,\n",
        "    schedule_interval=WORKFLOW_SCHEDULE_INTERVAL,\n",
        "    default_args=WORKFLOW_DEFAULT_ARGS,\n",
        ")\n",
        "\n",
        "# Define jobs\n",
        "job_1_operator = PythonOperator(\n",
        "    task_id=\"task_job_1\",\n",
        "    python_callable=data_pipeline,\n",
        "    dag=dag,\n",
        ")\n",
        "\n"
      ],
      "metadata": {
        "colab": {
          "base_uri": "https://localhost:8080/",
          "height": 50
        },
        "id": "agPaKDhKN2Cu",
        "outputId": "3525f605-dc64-446f-ced1-2013e4b514f8"
      },
      "execution_count": 11,
      "outputs": [
        {
          "output_type": "display_data",
          "data": {
            "text/plain": [
              "\u001b[1;33m/usr/local/lib/python3.7/dist-packages/\u001b[0m\u001b[1;33mipykernel_launcher.py\u001b[0m\u001b[1;33m:\u001b[0m\u001b[1;33m21\u001b[0m\u001b[1;33m RemovedInAirflow3Warning\u001b[0m\u001b[33m: Param `schedule_interval` is deprecated and will be removed in a future release. Please use `schedule` instead.\u001b[0m\n"
            ],
            "text/html": [
              "<pre style=\"white-space:pre;overflow-x:auto;line-height:normal;font-family:Menlo,'DejaVu Sans Mono',consolas,'Courier New',monospace\"><span style=\"color: #808000; text-decoration-color: #808000; font-weight: bold\">/usr/local/lib/python3.7/dist-packages/ipykernel_launcher.py:</span><span style=\"color: #808000; text-decoration-color: #808000; font-weight: bold\">21</span><span style=\"color: #808000; text-decoration-color: #808000; font-weight: bold\"> RemovedInAirflow3Warning</span><span style=\"color: #808000; text-decoration-color: #808000\">: Param `schedule_interval` is deprecated and will be removed in a future release. Please use `schedule` instead.</span>\n",
              "</pre>\n"
            ]
          },
          "metadata": {}
        }
      ]
    },
    {
      "cell_type": "code",
      "source": [],
      "metadata": {
        "id": "URN9fIbYp70X"
      },
      "execution_count": null,
      "outputs": []
    }
  ]
}